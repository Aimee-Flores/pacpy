{
 "cells": [
  {
   "cell_type": "markdown",
   "metadata": {},
   "source": [
    "# Estimating phase-amplitude coupling in simulated data"
   ]
  },
  {
   "cell_type": "markdown",
   "metadata": {},
   "source": [
    "#### This notebook simulates a neural population that is biased to fire at a preferred phase in a low-frequency oscillation. A local field potential (LFP) is then calculated, and four metrics of PAC are applied to the simulated LFP"
   ]
  },
  {
   "cell_type": "markdown",
   "metadata": {},
   "source": [
    "Imports"
   ]
  },
  {
   "cell_type": "code",
   "execution_count": 7,
   "metadata": {},
   "outputs": [],
   "source": [
    "from __future__ import division\n",
    "import numpy as np\n",
    "import matplotlib.pyplot as plt\n",
    "from NeuroTools import stgen\n",
    "from pacpy.pac import pac\n",
    "%matplotlib inline"
   ]
  },
  {
   "cell_type": "markdown",
   "metadata": {},
   "source": [
    "Simulate spike trains"
   ]
  },
  {
   "cell_type": "code",
   "execution_count": 3,
   "metadata": {},
   "outputs": [],
   "source": [
    "np.random.seed(1)\n",
    "stg = stgen.StGen()\n",
    "mod_frac = np.arange(0,1,.1) #Phase-dependent modulation is this fraction of spikes\n",
    "mod_f_mu = 20.0 #Mean modulation frequency\n",
    "mod_f_std = 2.0 #StDev of modulation frequency\n",
    "firing_rate = 10.0 #Firing rate for each neuron in Hz\n",
    "dt = .001\n",
    "nNeu = 100.0\n",
    "\n",
    "E = len(mod_frac)\n",
    "Tepochs = 10\n",
    "t_plot = np.arange(0,Tepochs,dt)\n",
    "\n",
    "spikes = np.zeros(E,dtype=object)\n",
    "neus = np.zeros(E,dtype=object)\n",
    "off_dep = np.zeros(E,dtype=object)\n",
    "off_indep = np.zeros(E,dtype=object)\n",
    "off_r = np.zeros(E,dtype=object)\n",
    "plt.figure()\n",
    "for e in range(E):\n",
    "    thal_phase0 = 2*np.pi*np.random.rand()\n",
    "    thal_freq = mod_f_mu + mod_f_std*np.random.randn()\n",
    "    thal_phase = (np.arange(0,Tepochs,dt) % (1/thal_freq)) * 2*np.pi*thal_freq\n",
    "    thal_phase = (thal_phase + thal_phase0) % (2*np.pi)\n",
    "    \n",
    "    off_dep[e] = np.sin(thal_phase) + 1\n",
    "    off_dep[e] = off_dep[e] * firing_rate * mod_frac[e]\n",
    "    off_indep[e] = firing_rate*(1-mod_frac[e]) * np.ones(Tepochs/dt)\n",
    "    off_r[e] = off_dep[e] + off_indep[e] \n",
    "    \n",
    "    spikes[e] = stg.inh_poisson_generator(off_r[e]*nNeu/dt,np.arange(0,Tepochs,dt),Tepochs,array=True)\n",
    "    neus[e] = np.random.randint(0,nNeu,len(spikes[e]))\n",
    "    \n",
    "    plt.subplot(E,2,2*e+1)\n",
    "    plt.plot(t_plot[:1000],off_indep[e][:1000],label='phase-independent')\n",
    "    plt.plot(t_plot[:1000],off_dep[e][:1000],label='phase-dependent')\n",
    "    plt.plot(t_plot[:1000],off_r[e][:1000],label='total')\n",
    "    plt.ylabel('Firing rate; DBS off')\n",
    "    plt.ylim([0,20])\n",
    "    if e == 0:\n",
    "        plt.legend()\n",
    "    \n",
    "    plt.subplot(E,2,2*e+2)\n",
    "    plt.plot(spikes[e][spikes[e]<1],neus[e][spikes[e]<1],'.')\n",
    "    plt.ylabel('Neuron')"
   ]
  },
  {
   "cell_type": "markdown",
   "metadata": {},
   "source": [
    "Calculate LFP"
   ]
  },
  {
   "cell_type": "code",
   "execution_count": 4,
   "metadata": {},
   "outputs": [],
   "source": [
    "# Define alpha function\n",
    "t_alpha = np.arange(100) # Alpha time course (ms)\n",
    "tau_rise = 3\n",
    "tau_decay = 40\n",
    "gmax = 1\n",
    "alpha = gmax * (np.exp(-t_alpha/tau_decay) - np.exp(-t_alpha/tau_rise))\n",
    "\n",
    "# Convert list of spike times to a temporal array \n",
    "splist = np.zeros(E,dtype=object)\n",
    "lfp = np.zeros(E,dtype=object)\n",
    "plt.figure()\n",
    "for e in range(E):\n",
    "    splist[e], t = np.histogram(spikes[e],np.arange(0,Tepochs,dt))\n",
    "    lfp[e] = np.convolve(splist[e],alpha,mode='same')\n",
    "    plt.subplot(E,1,e+1)\n",
    "    plt.plot(t[:-1],lfp[e])"
   ]
  },
  {
   "cell_type": "markdown",
   "metadata": {},
   "source": [
    "Calculate PAC"
   ]
  },
  {
   "cell_type": "code",
   "execution_count": 5,
   "metadata": {},
   "outputs": [
    {
     "name": "stderr",
     "output_type": "stream",
     "text": [
      "C:\\gh\\neurosrc\\pac\\pac.py:146: FutureWarning: comparison to `None` will result in an elementwise object comparison in the future.\n",
      "  if x_amp == None:\n"
     ]
    }
   ],
   "source": [
    "Fs = 1/dt\n",
    "fhi = [80, 200]\n",
    "cf = mod_f_mu\n",
    "beta_hw = 6\n",
    "flo = (cf - beta_hw, cf + beta_hw)\n",
    "kwargs = {'w_lo' : 7, 'filt_method' : 'fir'}\n",
    "\n",
    "pac_plv = np.zeros(E)\n",
    "pac_mi = np.zeros(E)\n",
    "pac_glm = np.zeros(E)\n",
    "pac_tort = np.zeros(E)\n",
    "for e in xrange(E):\n",
    "    pac_plv[e] = pac(lfp[e], Fs = Fs, flo = flo, fhi = fhi, pac_method = 'plv', **kwargs)\n",
    "    pac_mi[e] = pac(lfp[e], Fs = Fs, flo = flo, fhi = fhi, pac_method = 'mi_canolty', **kwargs)\n",
    "    pac_glm[e] = pac(lfp[e], Fs = Fs, flo = flo, fhi = fhi, pac_method = 'glm', **kwargs)\n",
    "    pac_tort[e] = pac(lfp[e], Fs = Fs, flo = flo, fhi = fhi, pac_method = 'mi_tort', **kwargs)"
   ]
  },
  {
   "cell_type": "markdown",
   "metadata": {},
   "source": [
    "Visualize relationship between firing bias and each metric"
   ]
  },
  {
   "cell_type": "code",
   "execution_count": 9,
   "metadata": {},
   "outputs": [
    {
     "data": {
      "text/plain": [
       "(-0.1, 1.1)"
      ]
     },
     "execution_count": 9,
     "output_type": "execute_result",
     "metadata": {}
    },
    {
     "data": {
      "image/png": "[encoded data removed]"
     },
     "output_type": "display_data",
     "metadata": {}
    }
   ],
   "source": [
    "plt.figure(figsize=(12,6))\n",
    "plt.subplot(1,4,1)\n",
    "plt.plot(mod_frac,pac_plv,'.')\n",
    "plt.xlabel('fraction of firing modulated')\n",
    "plt.ylabel('PAC: plv')\n",
    "plt.xlim([-.1,1.1])\n",
    "\n",
    "plt.subplot(1,4,2)\n",
    "plt.plot(mod_frac,pac_mi,'.')\n",
    "plt.xlabel('fraction of firing modulated')\n",
    "plt.ylabel('PAC: Canolty MI')\n",
    "plt.xlim([-.1,1.1])\n",
    "\n",
    "plt.subplot(1,4,3)\n",
    "plt.plot(mod_frac,pac_glm,'.')\n",
    "plt.xlabel('fraction of firing modulated')\n",
    "plt.ylabel('PAC: glm')\n",
    "plt.xlim([-.1,1.1])\n",
    "\n",
    "plt.subplot(1,4,4)\n",
    "plt.plot(mod_frac,pac_tort,'.')\n",
    "plt.xlabel('fraction of firing modulated')\n",
    "plt.ylabel('PAC: Tort MI')\n",
    "plt.xlim([-.1,1.1])"
   ]
  }
 ],
 "metadata": {
  "kernelspec": {
   "display_name": "Python 2",
   "language": "python",
   "name": "python2"
  },
  "language_info": {
   "codemirror_mode": {
    "name": "ipython",
    "version": 2.0
   },
   "file_extension": ".py",
   "mimetype": "text/x-python",
   "name": "python",
   "nbconvert_exporter": "python",
   "pygments_lexer": "ipython2",
   "version": "2.7.6"
  }
 },
 "nbformat": 4,
 "nbformat_minor": 0
}