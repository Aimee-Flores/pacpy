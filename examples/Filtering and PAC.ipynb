{
 "cells": [
  {
   "cell_type": "markdown",
   "metadata": {},
   "source": [
    "# Effects of filter parameters on phase-amplitude coupling"
   ]
  },
  {
   "cell_type": "markdown",
   "metadata": {},
   "source": [
    "#### This notebook visualizes the effects of various filter parameters on calculated beta-high gamma phase-amplitude coupling (PAC) in an example data set."
   ]
  },
  {
   "cell_type": "markdown",
   "metadata": {},
   "source": [
    "Download the notebook and data, correct the location of the data in the 'pacpretty' method, and run the interactive plot on the bottom.\n",
    "\n",
    "Use the sliders to adjust the filter parameters and observe their effects on PAC estimation. For example, PAC decreases with increasing window length for the gamma filter. Interestingly, the PAC measurements are relatively insensitive to expanding the transition bands of the filter to be very large."
   ]
  },
  {
   "cell_type": "markdown",
   "metadata": {},
   "source": [
    "Imports"
   ]
  },
  {
   "cell_type": "code",
   "execution_count": 1,
   "metadata": {},
   "outputs": [
    {
     "name": "stderr",
     "output_type": "stream",
     "text": [
      ":0: FutureWarning: IPython widgets are experimental and may change in the future.\n"
     ]
    }
   ],
   "source": [
    "from __future__ import division\n",
    "import numpy as np\n",
    "import math\n",
    "from scipy.signal import filtfilt, firwin2, freqz, hilbert\n",
    "%matplotlib inline\n",
    "import matplotlib.pyplot as plt\n",
    "from IPython.html.widgets import interactive, FloatSliderWidget, fixed\n",
    "from IPython.display import display"
   ]
  },
  {
   "cell_type": "markdown",
   "metadata": {},
   "source": [
    "Helper functions"
   ]
  },
  {
   "cell_type": "code",
   "execution_count": 2,
   "metadata": {},
   "outputs": [],
   "source": [
    "def power_two(n):\n",
    "    '''\n",
    "    Calculate the next power of 2 above the number provided\n",
    "    '''\n",
    "    return 2**(int(math.log(n, 2))+1)\n",
    "\n",
    "\n",
    "def fasthilbert(x, axis=-1):\n",
    "    '''\n",
    "    Redefinition of scipy.signal.hilbert, which is very slow for some lengths\n",
    "    of the signal x. This version zero-pads the signal to the next power of 2\n",
    "    for speed.\n",
    "    '''\n",
    "    x = np.array(x)\n",
    "    N = x.shape[axis]\n",
    "    N2 = power_two(len(x))\n",
    "    Xf = np.fft.fft(x, N2, axis=axis)\n",
    "    h = np.zeros(N2)\n",
    "    h[0] = 1\n",
    "    h[1:(N2 + 1) // 2] = 2\n",
    "        \n",
    "    x = np.fft.ifft(Xf * h, axis=axis)\n",
    "    return x[:N]\n",
    "\n",
    "def rmv_edge(x,win):\n",
    "    '''\n",
    "    Remove the edge effects from a filtered signal\n",
    "    '''\n",
    "    return x[np.int(win):-np.int(win)]\n",
    "\n",
    "def pacpretty(beta_center_freq,beta_bandwidth,beta_transition,beta_cycles,\n",
    "              gamma_center_freq,gamma_bandwidth,gamma_transition,gamma_cycles):\n",
    "    '''\n",
    "    Same as PAC function but only with long variable names of interest\n",
    "    '''\n",
    "    data=np.load('C:/gh/neurosrc/pac/exampledata.npy')\n",
    "    pac(data,beta_center_freq,beta_bandwidth,gamma_center_freq,gamma_bandwidth,\n",
    "        beta_cycles,beta_transition,gamma_cycles,gamma_transition)"
   ]
  },
  {
   "cell_type": "markdown",
   "metadata": {},
   "source": [
    "PAC function"
   ]
  },
  {
   "cell_type": "code",
   "execution_count": 3,
   "metadata": {},
   "outputs": [],
   "source": [
    "def pac(x, bcf = 21.5, bbw = 17, gcf = 140, gbw = 60,\n",
    "        bcy = 5, btw = .15, gcy = .5, gtw = .15,\n",
    "        gcy_g = False, Fs = 1000):\n",
    "    '''\n",
    "    Calculate phase-amplitude coupling\n",
    "    \n",
    "    Parameters\n",
    "    ----------\n",
    "    x : array\n",
    "        temporal signal\n",
    "    bcf : float\n",
    "        center frequency of the low frequency band\n",
    "    bbw : float\n",
    "        bandwidth of the low frequency band\n",
    "    gcf : float\n",
    "        center frequency of the high frequency band\n",
    "    gbw : float\n",
    "        bandwidth of the high frequency band\n",
    "    bcy : float\n",
    "        width of filtering window of the low frequency band in terms of the \n",
    "        number of cycles of the center frequency of that band\n",
    "    btw : float (0<x<1)\n",
    "        transition width of the low frequency band filter as a fraction of\n",
    "        the frequencies of the passband\n",
    "    gcy : float\n",
    "        width of filtering window of the high frequency band in terms of the \n",
    "        number of cycles of the center frequency of that band or the beta band\n",
    "        (depending on gcy_g value)\n",
    "    gtw : float (0<x<1)\n",
    "        transition width of the high frequency band filter as a fraction of\n",
    "        the frequencies of the passband\n",
    "    gcy_g : boolean\n",
    "        True : the width of the high frequency band filter is measured as the \n",
    "        number of cycles of the center frequency in the high frequency band\n",
    "        False : the width of the high frequency band filter is measured as the \n",
    "        number of cycles of the center frequency in the low frequency band \n",
    "    Fs : integer\n",
    "        sampling rate\n",
    "  \n",
    "    Returns\n",
    "    -------\n",
    "    amp : array\n",
    "        Time series of the analytic amplitude of the upper frequency band\n",
    "    pha : array\n",
    "        Time series of the analytic phase of the lower frequency band\n",
    "    pac : numeric\n",
    "        PAC value\n",
    "    and now other things\n",
    "    '''\n",
    "    \n",
    "    # Process parameters\n",
    "    flo = (bcf - bbw / 2.0, bcf + bbw / 2.0)\n",
    "    fhi = (gcf - gbw / 2.0, gcf + gbw / 2.0)\n",
    "    nyq = Fs/2\n",
    "    \n",
    "    # Beta filter\n",
    "    Ntapsb = np.floor(bcy*Fs/bcf)\n",
    "    f = [0, (1-btw)*flo[0]/nyq, flo[0]/nyq, flo[1]/nyq, (1+btw)*flo[1]/nyq, 1]\n",
    "    m = [0,0,1,1,0,0]\n",
    "    tapsb = firwin2(Ntapsb, f, m)\n",
    "    xb = filtfilt(tapsb,[1],x)\n",
    "    \n",
    "    # Gamma filter\n",
    "    if gcy_g:\n",
    "        Ntapsg = np.floor(gcy*Fs/gcf)\n",
    "    else:\n",
    "        Ntapsg = np.floor(gcy*Fs/bcf)\n",
    "    f = [0, (1-gtw)*fhi[0]/nyq, fhi[0]/nyq, fhi[1]/nyq, (1+gtw)*fhi[1]/nyq, 1]\n",
    "    m = [0,0,1,1,0,0]\n",
    "    tapsg = firwin2(Ntapsg, f, m)\n",
    "    xg = filtfilt(tapsg,[1],x)\n",
    "    xb = rmv_edge(xb,np.ceil(np.max([Ntapsb,Ntapsg])/2.0))\n",
    "    xg = rmv_edge(xg,np.ceil(np.max([Ntapsb,Ntapsg])/2.0))\n",
    "    \n",
    "    # Frequency responses\n",
    "    [wb,hb] = freqz(tapsb)\n",
    "    wb = wb*nyq/np.pi\n",
    "    [wg,hg] = freqz(tapsg)\n",
    "    wg = wg*nyq/np.pi\n",
    "    \n",
    "    # Analytic amplitude and phase time signals\n",
    "    amp = np.abs(fasthilbert(xg))\n",
    "    pha = np.angle(fasthilbert(xb))\n",
    "    phadeg = np.degrees(pha)\n",
    "    \n",
    "    # Calculate PAC: modulation index (Tort, 2008)\n",
    "    bin_phase_lo = np.arange(-180,180,20)\n",
    "    binned_meanA = np.zeros(len(bin_phase_lo))\n",
    "    for b in range(len(bin_phase_lo)):\n",
    "        phaserange = np.logical_and(phadeg>=bin_phase_lo[b],phadeg<(bin_phase_lo[b]+20))\n",
    "        binned_meanA[b] = np.mean(amp[phaserange])\n",
    "        \n",
    "    p_j = np.zeros(len(bin_phase_lo))\n",
    "    for b in range(len(bin_phase_lo)):\n",
    "        p_j[b] = binned_meanA[b]/sum(binned_meanA)\n",
    "        \n",
    "    H = -sum(np.multiply(p_j,np.log10(p_j)))\n",
    "    Hmax = np.log10(18)\n",
    "    pac_mi = (Hmax-H)/Hmax\n",
    "        \n",
    "    # Calculate PAC: phase-locking value (Tort, 2010)\n",
    "    amp_beta = filtfilt(tapsb,[1],amp)\n",
    "    amp_pha = np.angle(fasthilbert(amp_beta))\n",
    "    pac_plv = np.abs(np.sum(np.exp(1j * (pha - amp_pha)))) / len(pha)\n",
    "    \n",
    "    makeplots(amp, pha, pac_mi, tapsb, tapsg, wb, hb, wg, hg, bin_phase_lo, binned_meanA, pac_plv)\n",
    "    \n",
    "    return"
   ]
  },
  {
   "cell_type": "markdown",
   "metadata": {},
   "source": [
    "Plotting function"
   ]
  },
  {
   "cell_type": "code",
   "execution_count": 4,
   "metadata": {},
   "outputs": [],
   "source": [
    "def makeplots(amp, pha, pac_mi, tapsb, tapsg, wb, hb, wg, hg, bin_phase_lo, binned_meanA, pac_plv):\n",
    "    '''\n",
    "    Make plots: \n",
    "    1. Beta filter impulse response\n",
    "    2. Beta filter frequency response\n",
    "    3. Gamma filter impulse response\n",
    "    4. Gamma filter frequency response\n",
    "    5. Histogram of gamma power over beta cycle\n",
    "    '''\n",
    "    \n",
    "    Ntapsb = len(tapsb)\n",
    "    Ntapsg = len(tapsg)\n",
    "    \n",
    "    plt.figure(figsize=(12,6))\n",
    "    plt.subplot(2,3,1)\n",
    "    plt.cla()\n",
    "    plt.plot(tapsb)\n",
    "    plt.ylabel('Beta impulse response')\n",
    "    plt.annotate('Window length: '+np.str(np.int(Ntapsb)),\n",
    "                xy=(.02, .9),  xycoords='axes fraction')  \n",
    "    \n",
    "    plt.subplot(2,3,2)\n",
    "    plt.cla()\n",
    "    plt.plot(wb,abs(hb))\n",
    "    plt.xlim([0,50])\n",
    "    plt.ylim([0,1.05])\n",
    "    plt.ylabel('Amplitude (dB)')\n",
    "    \n",
    "    plt.subplot(2,3,4)\n",
    "    plt.cla()\n",
    "    plt.plot(tapsg)\n",
    "    plt.xlabel('samples (ms)')\n",
    "    plt.ylabel('Gamma impulse response')\n",
    "    plt.annotate('Window length: '+np.str(np.int(Ntapsg)),\n",
    "                xy=(.02, .9),  xycoords='axes fraction') \n",
    "    plt.subplot(2,3,5)\n",
    "    plt.cla()\n",
    "    plt.plot(wg,abs(hg))\n",
    "    plt.ylim([0,1.05])\n",
    "    plt.xlim([0,300])\n",
    "    plt.xlabel('f (Hz)')\n",
    "    plt.ylabel('Amplitude (dB)')\n",
    "    \n",
    "    plt.subplot(1,3,3)\n",
    "    plt.cla()\n",
    "    plt.bar(bin_phase_lo,binned_meanA,20)\n",
    "    plt.ylabel('Mean gamma power')\n",
    "    plt.xlabel('Beta phase (degrees)')\n",
    "    plt.xlim([-180,180])\n",
    "    plt.xticks(np.arange(-180,181,60))\n",
    "    plt.annotate('\\nMI = '+np.str(np.round(pac_mi,4))+'\\nPLV = '+np.str(np.round(pac_plv,2)),\n",
    "                xy=(.02, .9),  xycoords='axes fraction')  \n",
    "    plt.show()\n",
    "    \n",
    "    return"
   ]
  },
  {
   "cell_type": "markdown",
   "metadata": {},
   "source": [
    "# Interactive plots"
   ]
  },
  {
   "cell_type": "markdown",
   "metadata": {},
   "source": [
    "####Plots:\n",
    "\n",
    "Left column: impulse response for the beta filter (top) and gamma filter (bottom).\n",
    "\n",
    "Center column: frequency response for the beta filter (top) and gamma filter (bottom).\n",
    "\n",
    "Right column: Distribution of gamma power over the beta cycle"
   ]
  },
  {
   "cell_type": "markdown",
   "metadata": {},
   "source": [
    "#### Parameters:\n",
    "\n",
    "beta_center_freq: Center frequency of the beta band (Hz)\n",
    "\n",
    "beta_bandwidth: Width of the beta band (Hz)\n",
    "    \n",
    "beta_transition: Transition width of the beta band as a fraction of the frequencies of the passband\n",
    "\n",
    "beta_cycles : Width of the beta window in terms of the number of cycles of the beta center frequency\n",
    "\n",
    "gamma_center_freq: Center frequency of the gamma band (Hz)\n",
    "\n",
    "gamma_bandwidth: Width of the gamma band (Hz)\n",
    "    \n",
    "gamma_transition: Transition width of the gamma band as a fraction of the frequencies of the passband\n",
    "\n",
    "gamma_cycles : Width of the gamma window in terms of the number of cycles of the beta center frequency"
   ]
  },
  {
   "cell_type": "code",
   "execution_count": 5,
   "metadata": {},
   "outputs": [
    {
     "data": {
      "image/png": "[encoded data removed]"
     },
     "output_type": "display_data",
     "metadata": {}
    }
   ],
   "source": [
    "w=interactive(pacpretty,\n",
    "              beta_center_freq = FloatSliderWidget(min = 12, max = 30, step = 0.5, value = 21.5),\n",
    "              beta_bandwidth = FloatSliderWidget(min = 1, max = 20, step = 1, value = 17),\n",
    "              beta_transition = FloatSliderWidget(min = 0.05, max = 0.95, step = 0.05, value = 0.15),\n",
    "              beta_cycles = FloatSliderWidget(min = 2, max = 10, step = 1, value = 5),\n",
    "              gamma_center_freq = FloatSliderWidget(min = 50, max = 200, step = 10, value = 140),\n",
    "              gamma_bandwidth = FloatSliderWidget(min = 10, max = 100, step = 10, value = 60),\n",
    "              gamma_transition = FloatSliderWidget(min = 0.05, max = 0.95, step = 0.05, value = 0.15),\n",
    "              gamma_cycles = FloatSliderWidget(min = 0.5, max = 10, step = 0.5, value = 0.5))\n",
    "display(w)"
   ]
  }
 ],
 "metadata": {
  "kernelspec": {
   "display_name": "Python 2",
   "language": "python",
   "name": "python2"
  },
  "language_info": {
   "codemirror_mode": {
    "name": "ipython",
    "version": 2.0
   },
   "file_extension": ".py",
   "mimetype": "text/x-python",
   "name": "python",
   "nbconvert_exporter": "python",
   "pygments_lexer": "ipython2",
   "version": "2.7.6"
  }
 },
 "nbformat": 4,
 "nbformat_minor": 0
}